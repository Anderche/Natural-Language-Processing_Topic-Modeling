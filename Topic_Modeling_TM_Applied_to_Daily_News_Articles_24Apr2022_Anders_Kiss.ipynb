{
  "nbformat": 4,
  "nbformat_minor": 0,
  "metadata": {
    "colab": {
      "name": "Topic Modeling (TM) Applied to Daily News Articles_24Apr2022_Anders Kiss.ipynb",
      "provenance": [],
      "collapsed_sections": [],
      "include_colab_link": true
    },
    "kernelspec": {
      "name": "python3",
      "display_name": "Python 3"
    },
    "language_info": {
      "name": "python"
    }
  },
  "cells": [
    {
      "cell_type": "markdown",
      "metadata": {
        "id": "view-in-github",
        "colab_type": "text"
      },
      "source": [
        "<a href=\"https://colab.research.google.com/github/Anderche/Natural-Language-Processing_Topic-Modeling/blob/main/Topic_Modeling_TM_Applied_to_Daily_News_Articles_24Apr2022_Anders_Kiss.ipynb\" target=\"_parent\"><img src=\"https://colab.research.google.com/assets/colab-badge.svg\" alt=\"Open In Colab\"/></a>"
      ]
    },
    {
      "cell_type": "markdown",
      "source": [
        "# **Topic Modeling (TM) Applied to Daily News Articles**\n",
        "\n",
        "---\n",
        "\n",
        "Anders Kiss\n",
        "\n",
        "\n",
        "\n",
        "20-April-2022\n",
        "\n",
        "---\n"
      ],
      "metadata": {
        "id": "RKNBzV2vPzzH"
      }
    },
    {
      "cell_type": "markdown",
      "source": [
        "# **Business Understanding**\n",
        "\n",
        "\n",
        "**Use Cases**: \n",
        "\n",
        "\n",
        "- **Content Recommendations:**\n",
        "  - TM can help recommend content to website visitors. Instead of relying on visitors filtering, TM can be combined with Recommendation Systems to personalize content for site visitors, placing the most relevant content on visitor's screen via a simple keyword matching approach for each visitor, later changing to a collaborative matching approach for groups of readers with similar interests. News outlets can use topic modeling in order to: identify topics in articles AND identify topic preferences amongst its readers, THEN compare the two to find the best match for a visitor.\n",
        "\n",
        "- **Legal document searches:**\n",
        "  - TM can save time/resources, and ensure that important information is identified.Document volume can be very large; 100% search is typically not viable; relevant facts may be overlooked TM can help \"surface\" information within documents even if not all are searched.\n",
        "\n",
        "\n",
        "---\n",
        "\n",
        "### The following project will model **Daily news articles** to quickly understand the main global themes of the day.\n",
        "\n",
        "---"
      ],
      "metadata": {
        "id": "bwUeEfT1nNi9"
      }
    },
    {
      "cell_type": "code",
      "source": [
        "!pip install newsapi-python"
      ],
      "metadata": {
        "colab": {
          "base_uri": "https://localhost:8080/"
        },
        "id": "KMT_LRjWmi6Q",
        "outputId": "bc7f28dc-fa04-448e-a80b-e04e5d7899c5"
      },
      "execution_count": null,
      "outputs": [
        {
          "output_type": "stream",
          "name": "stdout",
          "text": [
            "Requirement already satisfied: newsapi-python in /usr/local/lib/python3.7/dist-packages (0.2.6)\n",
            "Requirement already satisfied: requests<3.0.0 in /usr/local/lib/python3.7/dist-packages (from newsapi-python) (2.23.0)\n",
            "Requirement already satisfied: certifi>=2017.4.17 in /usr/local/lib/python3.7/dist-packages (from requests<3.0.0->newsapi-python) (2021.10.8)\n",
            "Requirement already satisfied: chardet<4,>=3.0.2 in /usr/local/lib/python3.7/dist-packages (from requests<3.0.0->newsapi-python) (3.0.4)\n",
            "Requirement already satisfied: urllib3!=1.25.0,!=1.25.1,<1.26,>=1.21.1 in /usr/local/lib/python3.7/dist-packages (from requests<3.0.0->newsapi-python) (1.24.3)\n",
            "Requirement already satisfied: idna<3,>=2.5 in /usr/local/lib/python3.7/dist-packages (from requests<3.0.0->newsapi-python) (2.10)\n"
          ]
        }
      ]
    },
    {
      "cell_type": "code",
      "source": [
        "# Register for an API Key at the following URL:\n",
        "# https://newsapi.org/register\n",
        "Api_key = 'ad3558ca3c824fddab060f3106abb5db'"
      ],
      "metadata": {
        "id": "pdFw6ynmnKsd"
      },
      "execution_count": null,
      "outputs": []
    },
    {
      "cell_type": "markdown",
      "source": [
        "# **Data Understanding**"
      ],
      "metadata": {
        "id": "H1Ikpp8Oti07"
      }
    },
    {
      "cell_type": "code",
      "source": [
        "from newsapi import NewsApiClient\n",
        "import pandas as pd\n",
        "\n",
        "# Initialize the API client\n",
        "newsapi = NewsApiClient(api_key='$ENTER_API_KEY_HERE')\n",
        "\n",
        "pages = 6\n",
        "df = pd.DataFrame()\n",
        "for i in range(1,pages):\n",
        "  top_headlines = newsapi.get_top_headlines(language='en',\n",
        "                                          page = i)\n",
        "  df = df.append(top_headlines['articles'])"
      ],
      "metadata": {
        "id": "-69KyXAOnyko"
      },
      "execution_count": null,
      "outputs": []
    },
    {
      "cell_type": "code",
      "source": [
        "df.info()"
      ],
      "metadata": {
        "colab": {
          "base_uri": "https://localhost:8080/"
        },
        "id": "64NnLsx3uKfP",
        "outputId": "7d9f0047-8c0b-4a42-9426-2766d25f0b5c"
      },
      "execution_count": null,
      "outputs": [
        {
          "output_type": "stream",
          "name": "stdout",
          "text": [
            "<class 'pandas.core.frame.DataFrame'>\n",
            "Int64Index: 100 entries, 0 to 19\n",
            "Data columns (total 8 columns):\n",
            " #   Column       Non-Null Count  Dtype \n",
            "---  ------       --------------  ----- \n",
            " 0   source       100 non-null    object\n",
            " 1   author       82 non-null     object\n",
            " 2   title        100 non-null    object\n",
            " 3   description  100 non-null    object\n",
            " 4   url          100 non-null    object\n",
            " 5   urlToImage   99 non-null     object\n",
            " 6   publishedAt  100 non-null    object\n",
            " 7   content      96 non-null     object\n",
            "dtypes: object(8)\n",
            "memory usage: 7.0+ KB\n"
          ]
        }
      ]
    },
    {
      "cell_type": "code",
      "source": [
        "df.head()"
      ],
      "metadata": {
        "colab": {
          "base_uri": "https://localhost:8080/",
          "height": 597
        },
        "id": "hKopVkpM8_a3",
        "outputId": "2f81e063-b441-491c-c95a-19dccaeb87ff"
      },
      "execution_count": null,
      "outputs": [
        {
          "output_type": "execute_result",
          "data": {
            "text/plain": [
              "                                              source  \\\n",
              "0             {'id': None, 'name': 'Daily Maverick'}   \n",
              "1                  {'id': None, 'name': 'NDTV News'}   \n",
              "2            {'id': None, 'name': 'Telegraph.co.uk'}   \n",
              "3  {'id': None, 'name': 'WGAL Susquehanna Valley ...   \n",
              "4             {'id': None, 'name': 'New York Times'}   \n",
              "\n",
              "                              author  \\\n",
              "0  Catherine Tomlinson for Spotlight   \n",
              "1               Agence France-Presse   \n",
              "2                               None   \n",
              "3                       Anne Shannon   \n",
              "4                          Mike Ives   \n",
              "\n",
              "                                               title  \\\n",
              "0  Flucytosine in SA: What it means for cryptococ...   \n",
              "1  Wimbledon Ban On Russian Players Would Be \"Una...   \n",
              "2  Russia-Ukraine latest news: Captured British f...   \n",
              "3  Kreider Farms in Donegal, Lancaster County, de...   \n",
              "4  Arizona Wildfire Is Driven by High Winds - The...   \n",
              "\n",
              "                                         description  \\\n",
              "0  After seemingly endless delays, a critically i...   \n",
              "1  The Kremlin said Wednesday that banning Russia...   \n",
              "2  The family of a British man captured fighting ...   \n",
              "3  No new cases of avian flu have been reported t...   \n",
              "4  The Tunnel fire, near Flagstaff, prompted the ...   \n",
              "\n",
              "                                                 url  \\\n",
              "0  https://www.dailymaverick.co.za/article/2022-0...   \n",
              "1  https://sports.ndtv.com/tennis/wimbledon-ban-o...   \n",
              "2  https://www.telegraph.co.uk/world-news/2022/04...   \n",
              "3  https://www.wgal.com/article/bird-flu-lancaste...   \n",
              "4  https://www.nytimes.com/2022/04/20/us/arizona-...   \n",
              "\n",
              "                                          urlToImage           publishedAt  \\\n",
              "0  https://www.dailymaverick.co.za/wp-content/upl...  2022-04-20T12:39:36Z   \n",
              "1  https://c.ndtvimg.com/2022-04/hsfhsnck_wimbled...  2022-04-20T12:30:40Z   \n",
              "2  https://www.telegraph.co.uk/content/dam/world-...  2022-04-20T12:27:17Z   \n",
              "3  https://kubrick.htvapps.com/vidthumb/images/kr...  2022-04-20T12:27:00Z   \n",
              "4  https://static01.nyt.com/images/2022/04/20/mul...  2022-04-20T12:23:41Z   \n",
              "\n",
              "                                             content  \n",
              "0  Cryptococcal meningitis (CM) is one of the lea...  \n",
              "1  The Kremlin said Wednesday that banning Russia...  \n",
              "2  Wearing a grey tracksuit with a sleeve rolled ...  \n",
              "3  No new cases of avian flu have been reported t...  \n",
              "4  The blaze was completely uncontained as of Tue...  "
            ],
            "text/html": [
              "\n",
              "  <div id=\"df-7a8d7659-7287-4ee7-afda-8bcb0dff127a\">\n",
              "    <div class=\"colab-df-container\">\n",
              "      <div>\n",
              "<style scoped>\n",
              "    .dataframe tbody tr th:only-of-type {\n",
              "        vertical-align: middle;\n",
              "    }\n",
              "\n",
              "    .dataframe tbody tr th {\n",
              "        vertical-align: top;\n",
              "    }\n",
              "\n",
              "    .dataframe thead th {\n",
              "        text-align: right;\n",
              "    }\n",
              "</style>\n",
              "<table border=\"1\" class=\"dataframe\">\n",
              "  <thead>\n",
              "    <tr style=\"text-align: right;\">\n",
              "      <th></th>\n",
              "      <th>source</th>\n",
              "      <th>author</th>\n",
              "      <th>title</th>\n",
              "      <th>description</th>\n",
              "      <th>url</th>\n",
              "      <th>urlToImage</th>\n",
              "      <th>publishedAt</th>\n",
              "      <th>content</th>\n",
              "    </tr>\n",
              "  </thead>\n",
              "  <tbody>\n",
              "    <tr>\n",
              "      <th>0</th>\n",
              "      <td>{'id': None, 'name': 'Daily Maverick'}</td>\n",
              "      <td>Catherine Tomlinson for Spotlight</td>\n",
              "      <td>Flucytosine in SA: What it means for cryptococ...</td>\n",
              "      <td>After seemingly endless delays, a critically i...</td>\n",
              "      <td>https://www.dailymaverick.co.za/article/2022-0...</td>\n",
              "      <td>https://www.dailymaverick.co.za/wp-content/upl...</td>\n",
              "      <td>2022-04-20T12:39:36Z</td>\n",
              "      <td>Cryptococcal meningitis (CM) is one of the lea...</td>\n",
              "    </tr>\n",
              "    <tr>\n",
              "      <th>1</th>\n",
              "      <td>{'id': None, 'name': 'NDTV News'}</td>\n",
              "      <td>Agence France-Presse</td>\n",
              "      <td>Wimbledon Ban On Russian Players Would Be \"Una...</td>\n",
              "      <td>The Kremlin said Wednesday that banning Russia...</td>\n",
              "      <td>https://sports.ndtv.com/tennis/wimbledon-ban-o...</td>\n",
              "      <td>https://c.ndtvimg.com/2022-04/hsfhsnck_wimbled...</td>\n",
              "      <td>2022-04-20T12:30:40Z</td>\n",
              "      <td>The Kremlin said Wednesday that banning Russia...</td>\n",
              "    </tr>\n",
              "    <tr>\n",
              "      <th>2</th>\n",
              "      <td>{'id': None, 'name': 'Telegraph.co.uk'}</td>\n",
              "      <td>None</td>\n",
              "      <td>Russia-Ukraine latest news: Captured British f...</td>\n",
              "      <td>The family of a British man captured fighting ...</td>\n",
              "      <td>https://www.telegraph.co.uk/world-news/2022/04...</td>\n",
              "      <td>https://www.telegraph.co.uk/content/dam/world-...</td>\n",
              "      <td>2022-04-20T12:27:17Z</td>\n",
              "      <td>Wearing a grey tracksuit with a sleeve rolled ...</td>\n",
              "    </tr>\n",
              "    <tr>\n",
              "      <th>3</th>\n",
              "      <td>{'id': None, 'name': 'WGAL Susquehanna Valley ...</td>\n",
              "      <td>Anne Shannon</td>\n",
              "      <td>Kreider Farms in Donegal, Lancaster County, de...</td>\n",
              "      <td>No new cases of avian flu have been reported t...</td>\n",
              "      <td>https://www.wgal.com/article/bird-flu-lancaste...</td>\n",
              "      <td>https://kubrick.htvapps.com/vidthumb/images/kr...</td>\n",
              "      <td>2022-04-20T12:27:00Z</td>\n",
              "      <td>No new cases of avian flu have been reported t...</td>\n",
              "    </tr>\n",
              "    <tr>\n",
              "      <th>4</th>\n",
              "      <td>{'id': None, 'name': 'New York Times'}</td>\n",
              "      <td>Mike Ives</td>\n",
              "      <td>Arizona Wildfire Is Driven by High Winds - The...</td>\n",
              "      <td>The Tunnel fire, near Flagstaff, prompted the ...</td>\n",
              "      <td>https://www.nytimes.com/2022/04/20/us/arizona-...</td>\n",
              "      <td>https://static01.nyt.com/images/2022/04/20/mul...</td>\n",
              "      <td>2022-04-20T12:23:41Z</td>\n",
              "      <td>The blaze was completely uncontained as of Tue...</td>\n",
              "    </tr>\n",
              "  </tbody>\n",
              "</table>\n",
              "</div>\n",
              "      <button class=\"colab-df-convert\" onclick=\"convertToInteractive('df-7a8d7659-7287-4ee7-afda-8bcb0dff127a')\"\n",
              "              title=\"Convert this dataframe to an interactive table.\"\n",
              "              style=\"display:none;\">\n",
              "        \n",
              "  <svg xmlns=\"http://www.w3.org/2000/svg\" height=\"24px\"viewBox=\"0 0 24 24\"\n",
              "       width=\"24px\">\n",
              "    <path d=\"M0 0h24v24H0V0z\" fill=\"none\"/>\n",
              "    <path d=\"M18.56 5.44l.94 2.06.94-2.06 2.06-.94-2.06-.94-.94-2.06-.94 2.06-2.06.94zm-11 1L8.5 8.5l.94-2.06 2.06-.94-2.06-.94L8.5 2.5l-.94 2.06-2.06.94zm10 10l.94 2.06.94-2.06 2.06-.94-2.06-.94-.94-2.06-.94 2.06-2.06.94z\"/><path d=\"M17.41 7.96l-1.37-1.37c-.4-.4-.92-.59-1.43-.59-.52 0-1.04.2-1.43.59L10.3 9.45l-7.72 7.72c-.78.78-.78 2.05 0 2.83L4 21.41c.39.39.9.59 1.41.59.51 0 1.02-.2 1.41-.59l7.78-7.78 2.81-2.81c.8-.78.8-2.07 0-2.86zM5.41 20L4 18.59l7.72-7.72 1.47 1.35L5.41 20z\"/>\n",
              "  </svg>\n",
              "      </button>\n",
              "      \n",
              "  <style>\n",
              "    .colab-df-container {\n",
              "      display:flex;\n",
              "      flex-wrap:wrap;\n",
              "      gap: 12px;\n",
              "    }\n",
              "\n",
              "    .colab-df-convert {\n",
              "      background-color: #E8F0FE;\n",
              "      border: none;\n",
              "      border-radius: 50%;\n",
              "      cursor: pointer;\n",
              "      display: none;\n",
              "      fill: #1967D2;\n",
              "      height: 32px;\n",
              "      padding: 0 0 0 0;\n",
              "      width: 32px;\n",
              "    }\n",
              "\n",
              "    .colab-df-convert:hover {\n",
              "      background-color: #E2EBFA;\n",
              "      box-shadow: 0px 1px 2px rgba(60, 64, 67, 0.3), 0px 1px 3px 1px rgba(60, 64, 67, 0.15);\n",
              "      fill: #174EA6;\n",
              "    }\n",
              "\n",
              "    [theme=dark] .colab-df-convert {\n",
              "      background-color: #3B4455;\n",
              "      fill: #D2E3FC;\n",
              "    }\n",
              "\n",
              "    [theme=dark] .colab-df-convert:hover {\n",
              "      background-color: #434B5C;\n",
              "      box-shadow: 0px 1px 3px 1px rgba(0, 0, 0, 0.15);\n",
              "      filter: drop-shadow(0px 1px 2px rgba(0, 0, 0, 0.3));\n",
              "      fill: #FFFFFF;\n",
              "    }\n",
              "  </style>\n",
              "\n",
              "      <script>\n",
              "        const buttonEl =\n",
              "          document.querySelector('#df-7a8d7659-7287-4ee7-afda-8bcb0dff127a button.colab-df-convert');\n",
              "        buttonEl.style.display =\n",
              "          google.colab.kernel.accessAllowed ? 'block' : 'none';\n",
              "\n",
              "        async function convertToInteractive(key) {\n",
              "          const element = document.querySelector('#df-7a8d7659-7287-4ee7-afda-8bcb0dff127a');\n",
              "          const dataTable =\n",
              "            await google.colab.kernel.invokeFunction('convertToInteractive',\n",
              "                                                     [key], {});\n",
              "          if (!dataTable) return;\n",
              "\n",
              "          const docLinkHtml = 'Like what you see? Visit the ' +\n",
              "            '<a target=\"_blank\" href=https://colab.research.google.com/notebooks/data_table.ipynb>data table notebook</a>'\n",
              "            + ' to learn more about interactive tables.';\n",
              "          element.innerHTML = '';\n",
              "          dataTable['output_type'] = 'display_data';\n",
              "          await google.colab.output.renderOutput(dataTable, element);\n",
              "          const docLink = document.createElement('div');\n",
              "          docLink.innerHTML = docLinkHtml;\n",
              "          element.appendChild(docLink);\n",
              "        }\n",
              "      </script>\n",
              "    </div>\n",
              "  </div>\n",
              "  "
            ]
          },
          "metadata": {},
          "execution_count": 49
        }
      ]
    },
    {
      "cell_type": "code",
      "source": [
        ""
      ],
      "metadata": {
        "id": "M78b3xj06sap"
      },
      "execution_count": null,
      "outputs": []
    },
    {
      "cell_type": "markdown",
      "source": [
        "# **Data Preparation**"
      ],
      "metadata": {
        "id": "kEajVwhetn8Q"
      }
    },
    {
      "cell_type": "code",
      "source": [
        "news_data = df[['title', 'description', 'content']]"
      ],
      "metadata": {
        "id": "7Lw-8rVVzZFP"
      },
      "execution_count": null,
      "outputs": []
    },
    {
      "cell_type": "code",
      "source": [
        "print('number of nan: ',news_data.isnull().sum())\n",
        "news_data = news_data.dropna()\n",
        "print('number of nan: ',news_data.isnull().sum())"
      ],
      "metadata": {
        "colab": {
          "base_uri": "https://localhost:8080/"
        },
        "id": "ipNu-sms6Xlh",
        "outputId": "4cd2f6a1-2ee6-44b2-ab47-72ae5e0532a3"
      },
      "execution_count": null,
      "outputs": [
        {
          "output_type": "stream",
          "name": "stdout",
          "text": [
            "number of nan:  title           0\n",
            "description     0\n",
            "content        10\n",
            "dtype: int64\n",
            "number of nan:  title          0\n",
            "description    0\n",
            "content        0\n",
            "dtype: int64\n"
          ]
        }
      ]
    },
    {
      "cell_type": "code",
      "source": [
        "news_data['all_page'] = news_data[['title', 'description', 'content']].agg(' '.join, axis=1)"
      ],
      "metadata": {
        "id": "NEwy5_yCycTB"
      },
      "execution_count": null,
      "outputs": []
    },
    {
      "cell_type": "code",
      "source": [
        "import joblib\n",
        "import nltk\n",
        "nltk.download('wordnet')\n",
        "nltk.download('stopwords')\n",
        "nltk.download('punkt')\n",
        "from nltk.corpus import stopwords\n",
        "import string, unicodedata, re\n",
        "from sklearn.feature_extraction.text import CountVectorizer, TfidfVectorizer\n",
        "\n",
        "def tokenize(x):\n",
        "  try:\n",
        "    x = x.encode('ascii', 'ignore').decode() #'ascii')\n",
        "    x = re.sub('[%s]' % re.escape(string.punctuation), ' ', x)\n",
        "    x = ' '.join([word for word in x.split(' ') if word not in stopwords.words('english')])\n",
        "    x = re.sub(r'[^\\w\\s]', '', str(x).lower().strip())\n",
        "    return x #A, terms\n",
        "  except Exception as e:\n",
        "    print(e)"
      ],
      "metadata": {
        "colab": {
          "base_uri": "https://localhost:8080/"
        },
        "id": "dzgt_SZO33wW",
        "outputId": "8bdc626d-305c-4953-b3bb-21bcef84ec43"
      },
      "execution_count": null,
      "outputs": [
        {
          "output_type": "stream",
          "name": "stdout",
          "text": [
            "[nltk_data] Downloading package wordnet to /root/nltk_data...\n",
            "[nltk_data]   Unzipping corpora/wordnet.zip.\n",
            "[nltk_data] Downloading package stopwords to /root/nltk_data...\n",
            "[nltk_data]   Unzipping corpora/stopwords.zip.\n",
            "[nltk_data] Downloading package punkt to /root/nltk_data...\n",
            "[nltk_data]   Unzipping tokenizers/punkt.zip.\n"
          ]
        }
      ]
    },
    {
      "cell_type": "code",
      "source": [
        "news_data['clean_page'] = news_data.all_page.apply(tokenize)"
      ],
      "metadata": {
        "id": "5CAKp_ORVESk"
      },
      "execution_count": null,
      "outputs": []
    },
    {
      "cell_type": "code",
      "source": [
        "!pip install langdetect"
      ],
      "metadata": {
        "colab": {
          "base_uri": "https://localhost:8080/"
        },
        "id": "JW5vXkF78J27",
        "outputId": "a06205d2-9a84-4dc3-8b88-04524f34689c"
      },
      "execution_count": null,
      "outputs": [
        {
          "output_type": "stream",
          "name": "stdout",
          "text": [
            "Collecting langdetect\n",
            "  Downloading langdetect-1.0.9.tar.gz (981 kB)\n",
            "\u001b[?25l\r\u001b[K     |▍                               | 10 kB 24.9 MB/s eta 0:00:01\r\u001b[K     |▊                               | 20 kB 12.8 MB/s eta 0:00:01\r\u001b[K     |█                               | 30 kB 9.9 MB/s eta 0:00:01\r\u001b[K     |█▍                              | 40 kB 9.0 MB/s eta 0:00:01\r\u001b[K     |█▊                              | 51 kB 4.4 MB/s eta 0:00:01\r\u001b[K     |██                              | 61 kB 5.1 MB/s eta 0:00:01\r\u001b[K     |██▍                             | 71 kB 5.6 MB/s eta 0:00:01\r\u001b[K     |██▊                             | 81 kB 5.7 MB/s eta 0:00:01\r\u001b[K     |███                             | 92 kB 6.3 MB/s eta 0:00:01\r\u001b[K     |███▍                            | 102 kB 5.2 MB/s eta 0:00:01\r\u001b[K     |███▊                            | 112 kB 5.2 MB/s eta 0:00:01\r\u001b[K     |████                            | 122 kB 5.2 MB/s eta 0:00:01\r\u001b[K     |████▍                           | 133 kB 5.2 MB/s eta 0:00:01\r\u001b[K     |████▊                           | 143 kB 5.2 MB/s eta 0:00:01\r\u001b[K     |█████                           | 153 kB 5.2 MB/s eta 0:00:01\r\u001b[K     |█████▍                          | 163 kB 5.2 MB/s eta 0:00:01\r\u001b[K     |█████▊                          | 174 kB 5.2 MB/s eta 0:00:01\r\u001b[K     |██████                          | 184 kB 5.2 MB/s eta 0:00:01\r\u001b[K     |██████▍                         | 194 kB 5.2 MB/s eta 0:00:01\r\u001b[K     |██████▊                         | 204 kB 5.2 MB/s eta 0:00:01\r\u001b[K     |███████                         | 215 kB 5.2 MB/s eta 0:00:01\r\u001b[K     |███████▍                        | 225 kB 5.2 MB/s eta 0:00:01\r\u001b[K     |███████▊                        | 235 kB 5.2 MB/s eta 0:00:01\r\u001b[K     |████████                        | 245 kB 5.2 MB/s eta 0:00:01\r\u001b[K     |████████▍                       | 256 kB 5.2 MB/s eta 0:00:01\r\u001b[K     |████████▊                       | 266 kB 5.2 MB/s eta 0:00:01\r\u001b[K     |█████████                       | 276 kB 5.2 MB/s eta 0:00:01\r\u001b[K     |█████████▍                      | 286 kB 5.2 MB/s eta 0:00:01\r\u001b[K     |█████████▊                      | 296 kB 5.2 MB/s eta 0:00:01\r\u001b[K     |██████████                      | 307 kB 5.2 MB/s eta 0:00:01\r\u001b[K     |██████████▍                     | 317 kB 5.2 MB/s eta 0:00:01\r\u001b[K     |██████████▊                     | 327 kB 5.2 MB/s eta 0:00:01\r\u001b[K     |███████████                     | 337 kB 5.2 MB/s eta 0:00:01\r\u001b[K     |███████████▍                    | 348 kB 5.2 MB/s eta 0:00:01\r\u001b[K     |███████████▊                    | 358 kB 5.2 MB/s eta 0:00:01\r\u001b[K     |████████████                    | 368 kB 5.2 MB/s eta 0:00:01\r\u001b[K     |████████████▍                   | 378 kB 5.2 MB/s eta 0:00:01\r\u001b[K     |████████████▊                   | 389 kB 5.2 MB/s eta 0:00:01\r\u001b[K     |█████████████                   | 399 kB 5.2 MB/s eta 0:00:01\r\u001b[K     |█████████████▍                  | 409 kB 5.2 MB/s eta 0:00:01\r\u001b[K     |█████████████▊                  | 419 kB 5.2 MB/s eta 0:00:01\r\u001b[K     |██████████████                  | 430 kB 5.2 MB/s eta 0:00:01\r\u001b[K     |██████████████▍                 | 440 kB 5.2 MB/s eta 0:00:01\r\u001b[K     |██████████████▊                 | 450 kB 5.2 MB/s eta 0:00:01\r\u001b[K     |███████████████                 | 460 kB 5.2 MB/s eta 0:00:01\r\u001b[K     |███████████████▍                | 471 kB 5.2 MB/s eta 0:00:01\r\u001b[K     |███████████████▊                | 481 kB 5.2 MB/s eta 0:00:01\r\u001b[K     |████████████████                | 491 kB 5.2 MB/s eta 0:00:01\r\u001b[K     |████████████████▍               | 501 kB 5.2 MB/s eta 0:00:01\r\u001b[K     |████████████████▊               | 512 kB 5.2 MB/s eta 0:00:01\r\u001b[K     |█████████████████               | 522 kB 5.2 MB/s eta 0:00:01\r\u001b[K     |█████████████████▍              | 532 kB 5.2 MB/s eta 0:00:01\r\u001b[K     |█████████████████▊              | 542 kB 5.2 MB/s eta 0:00:01\r\u001b[K     |██████████████████              | 552 kB 5.2 MB/s eta 0:00:01\r\u001b[K     |██████████████████▍             | 563 kB 5.2 MB/s eta 0:00:01\r\u001b[K     |██████████████████▊             | 573 kB 5.2 MB/s eta 0:00:01\r\u001b[K     |███████████████████             | 583 kB 5.2 MB/s eta 0:00:01\r\u001b[K     |███████████████████▍            | 593 kB 5.2 MB/s eta 0:00:01\r\u001b[K     |███████████████████▊            | 604 kB 5.2 MB/s eta 0:00:01\r\u001b[K     |████████████████████            | 614 kB 5.2 MB/s eta 0:00:01\r\u001b[K     |████████████████████▍           | 624 kB 5.2 MB/s eta 0:00:01\r\u001b[K     |████████████████████▊           | 634 kB 5.2 MB/s eta 0:00:01\r\u001b[K     |█████████████████████           | 645 kB 5.2 MB/s eta 0:00:01\r\u001b[K     |█████████████████████▍          | 655 kB 5.2 MB/s eta 0:00:01\r\u001b[K     |█████████████████████▊          | 665 kB 5.2 MB/s eta 0:00:01\r\u001b[K     |██████████████████████          | 675 kB 5.2 MB/s eta 0:00:01\r\u001b[K     |██████████████████████▍         | 686 kB 5.2 MB/s eta 0:00:01\r\u001b[K     |██████████████████████▊         | 696 kB 5.2 MB/s eta 0:00:01\r\u001b[K     |███████████████████████         | 706 kB 5.2 MB/s eta 0:00:01\r\u001b[K     |███████████████████████▍        | 716 kB 5.2 MB/s eta 0:00:01\r\u001b[K     |███████████████████████▊        | 727 kB 5.2 MB/s eta 0:00:01\r\u001b[K     |████████████████████████        | 737 kB 5.2 MB/s eta 0:00:01\r\u001b[K     |████████████████████████▍       | 747 kB 5.2 MB/s eta 0:00:01\r\u001b[K     |████████████████████████▊       | 757 kB 5.2 MB/s eta 0:00:01\r\u001b[K     |█████████████████████████       | 768 kB 5.2 MB/s eta 0:00:01\r\u001b[K     |█████████████████████████▍      | 778 kB 5.2 MB/s eta 0:00:01\r\u001b[K     |█████████████████████████▊      | 788 kB 5.2 MB/s eta 0:00:01\r\u001b[K     |██████████████████████████      | 798 kB 5.2 MB/s eta 0:00:01\r\u001b[K     |██████████████████████████▍     | 808 kB 5.2 MB/s eta 0:00:01\r\u001b[K     |██████████████████████████▊     | 819 kB 5.2 MB/s eta 0:00:01\r\u001b[K     |███████████████████████████     | 829 kB 5.2 MB/s eta 0:00:01\r\u001b[K     |███████████████████████████▍    | 839 kB 5.2 MB/s eta 0:00:01\r\u001b[K     |███████████████████████████▊    | 849 kB 5.2 MB/s eta 0:00:01\r\u001b[K     |████████████████████████████    | 860 kB 5.2 MB/s eta 0:00:01\r\u001b[K     |████████████████████████████▍   | 870 kB 5.2 MB/s eta 0:00:01\r\u001b[K     |████████████████████████████▊   | 880 kB 5.2 MB/s eta 0:00:01\r\u001b[K     |█████████████████████████████   | 890 kB 5.2 MB/s eta 0:00:01\r\u001b[K     |█████████████████████████████▍  | 901 kB 5.2 MB/s eta 0:00:01\r\u001b[K     |█████████████████████████████▊  | 911 kB 5.2 MB/s eta 0:00:01\r\u001b[K     |██████████████████████████████  | 921 kB 5.2 MB/s eta 0:00:01\r\u001b[K     |██████████████████████████████▍ | 931 kB 5.2 MB/s eta 0:00:01\r\u001b[K     |██████████████████████████████▊ | 942 kB 5.2 MB/s eta 0:00:01\r\u001b[K     |███████████████████████████████ | 952 kB 5.2 MB/s eta 0:00:01\r\u001b[K     |███████████████████████████████▍| 962 kB 5.2 MB/s eta 0:00:01\r\u001b[K     |███████████████████████████████▊| 972 kB 5.2 MB/s eta 0:00:01\r\u001b[K     |████████████████████████████████| 981 kB 5.2 MB/s \n",
            "\u001b[?25hRequirement already satisfied: six in /usr/local/lib/python3.7/dist-packages (from langdetect) (1.15.0)\n",
            "Building wheels for collected packages: langdetect\n",
            "  Building wheel for langdetect (setup.py) ... \u001b[?25l\u001b[?25hdone\n",
            "  Created wheel for langdetect: filename=langdetect-1.0.9-py3-none-any.whl size=993242 sha256=f94969a853e1e07e84da920866e70bcb6af96dcc6fa52e84eb2bb9699d0efa55\n",
            "  Stored in directory: /root/.cache/pip/wheels/c5/96/8a/f90c59ed25d75e50a8c10a1b1c2d4c402e4dacfa87f3aff36a\n",
            "Successfully built langdetect\n",
            "Installing collected packages: langdetect\n",
            "Successfully installed langdetect-1.0.9\n"
          ]
        }
      ]
    },
    {
      "cell_type": "code",
      "source": [
        "import langdetect \n",
        "\n",
        "#for i in new_list:\n",
        "\n",
        "news_data['lang'] = news_data['clean_page'].apply(lambda x: langdetect.detect(x) if \n",
        "                                 x.strip() != \"\" else \"\")\n",
        "news_data[news_data.lang != 'en']"
      ],
      "metadata": {
        "colab": {
          "base_uri": "https://localhost:8080/",
          "height": 190
        },
        "id": "Jhbyga478A4z",
        "outputId": "205d0ce9-d3ee-48f3-a5c9-895d274f5743"
      },
      "execution_count": null,
      "outputs": [
        {
          "output_type": "execute_result",
          "data": {
            "text/plain": [
              "                                               title  \\\n",
              "5  Ex-CFO: KPMG said would sign off on 2013 audit...   \n",
              "6  Sony выпустила программу для обновления DualSe...   \n",
              "\n",
              "                                         description  \\\n",
              "5  KUALA LUMPUR, April 20 — Audit firm KPMG was a...   \n",
              "6             #sony #playstation #dualsense #новости   \n",
              "\n",
              "                                             content  \\\n",
              "5  Datuk Seri Najib Razak arrives at the Kuala Lu...   \n",
              "6     Elden Ring , - , , , , . 1.04 Elden Ring , . .   \n",
              "\n",
              "                                            all_page  \\\n",
              "5  Ex-CFO: KPMG said would sign off on 2013 audit...   \n",
              "6  Sony выпустила программу для обновления DualSe...   \n",
              "\n",
              "                                          clean_page lang  \n",
              "5  ex cfo  kpmg said would sign 2013 audit pm naj...   id  \n",
              "6  sony     dualsense    ps5       playstation  d...   da  "
            ],
            "text/html": [
              "\n",
              "  <div id=\"df-48862dd7-0831-4878-b87c-31c2a01c804e\">\n",
              "    <div class=\"colab-df-container\">\n",
              "      <div>\n",
              "<style scoped>\n",
              "    .dataframe tbody tr th:only-of-type {\n",
              "        vertical-align: middle;\n",
              "    }\n",
              "\n",
              "    .dataframe tbody tr th {\n",
              "        vertical-align: top;\n",
              "    }\n",
              "\n",
              "    .dataframe thead th {\n",
              "        text-align: right;\n",
              "    }\n",
              "</style>\n",
              "<table border=\"1\" class=\"dataframe\">\n",
              "  <thead>\n",
              "    <tr style=\"text-align: right;\">\n",
              "      <th></th>\n",
              "      <th>title</th>\n",
              "      <th>description</th>\n",
              "      <th>content</th>\n",
              "      <th>all_page</th>\n",
              "      <th>clean_page</th>\n",
              "      <th>lang</th>\n",
              "    </tr>\n",
              "  </thead>\n",
              "  <tbody>\n",
              "    <tr>\n",
              "      <th>5</th>\n",
              "      <td>Ex-CFO: KPMG said would sign off on 2013 audit...</td>\n",
              "      <td>KUALA LUMPUR, April 20 — Audit firm KPMG was a...</td>\n",
              "      <td>Datuk Seri Najib Razak arrives at the Kuala Lu...</td>\n",
              "      <td>Ex-CFO: KPMG said would sign off on 2013 audit...</td>\n",
              "      <td>ex cfo  kpmg said would sign 2013 audit pm naj...</td>\n",
              "      <td>id</td>\n",
              "    </tr>\n",
              "    <tr>\n",
              "      <th>6</th>\n",
              "      <td>Sony выпустила программу для обновления DualSe...</td>\n",
              "      <td>#sony #playstation #dualsense #новости</td>\n",
              "      <td>Elden Ring , - , , , , . 1.04 Elden Ring , . .</td>\n",
              "      <td>Sony выпустила программу для обновления DualSe...</td>\n",
              "      <td>sony     dualsense    ps5       playstation  d...</td>\n",
              "      <td>da</td>\n",
              "    </tr>\n",
              "  </tbody>\n",
              "</table>\n",
              "</div>\n",
              "      <button class=\"colab-df-convert\" onclick=\"convertToInteractive('df-48862dd7-0831-4878-b87c-31c2a01c804e')\"\n",
              "              title=\"Convert this dataframe to an interactive table.\"\n",
              "              style=\"display:none;\">\n",
              "        \n",
              "  <svg xmlns=\"http://www.w3.org/2000/svg\" height=\"24px\"viewBox=\"0 0 24 24\"\n",
              "       width=\"24px\">\n",
              "    <path d=\"M0 0h24v24H0V0z\" fill=\"none\"/>\n",
              "    <path d=\"M18.56 5.44l.94 2.06.94-2.06 2.06-.94-2.06-.94-.94-2.06-.94 2.06-2.06.94zm-11 1L8.5 8.5l.94-2.06 2.06-.94-2.06-.94L8.5 2.5l-.94 2.06-2.06.94zm10 10l.94 2.06.94-2.06 2.06-.94-2.06-.94-.94-2.06-.94 2.06-2.06.94z\"/><path d=\"M17.41 7.96l-1.37-1.37c-.4-.4-.92-.59-1.43-.59-.52 0-1.04.2-1.43.59L10.3 9.45l-7.72 7.72c-.78.78-.78 2.05 0 2.83L4 21.41c.39.39.9.59 1.41.59.51 0 1.02-.2 1.41-.59l7.78-7.78 2.81-2.81c.8-.78.8-2.07 0-2.86zM5.41 20L4 18.59l7.72-7.72 1.47 1.35L5.41 20z\"/>\n",
              "  </svg>\n",
              "      </button>\n",
              "      \n",
              "  <style>\n",
              "    .colab-df-container {\n",
              "      display:flex;\n",
              "      flex-wrap:wrap;\n",
              "      gap: 12px;\n",
              "    }\n",
              "\n",
              "    .colab-df-convert {\n",
              "      background-color: #E8F0FE;\n",
              "      border: none;\n",
              "      border-radius: 50%;\n",
              "      cursor: pointer;\n",
              "      display: none;\n",
              "      fill: #1967D2;\n",
              "      height: 32px;\n",
              "      padding: 0 0 0 0;\n",
              "      width: 32px;\n",
              "    }\n",
              "\n",
              "    .colab-df-convert:hover {\n",
              "      background-color: #E2EBFA;\n",
              "      box-shadow: 0px 1px 2px rgba(60, 64, 67, 0.3), 0px 1px 3px 1px rgba(60, 64, 67, 0.15);\n",
              "      fill: #174EA6;\n",
              "    }\n",
              "\n",
              "    [theme=dark] .colab-df-convert {\n",
              "      background-color: #3B4455;\n",
              "      fill: #D2E3FC;\n",
              "    }\n",
              "\n",
              "    [theme=dark] .colab-df-convert:hover {\n",
              "      background-color: #434B5C;\n",
              "      box-shadow: 0px 1px 3px 1px rgba(0, 0, 0, 0.15);\n",
              "      filter: drop-shadow(0px 1px 2px rgba(0, 0, 0, 0.3));\n",
              "      fill: #FFFFFF;\n",
              "    }\n",
              "  </style>\n",
              "\n",
              "      <script>\n",
              "        const buttonEl =\n",
              "          document.querySelector('#df-48862dd7-0831-4878-b87c-31c2a01c804e button.colab-df-convert');\n",
              "        buttonEl.style.display =\n",
              "          google.colab.kernel.accessAllowed ? 'block' : 'none';\n",
              "\n",
              "        async function convertToInteractive(key) {\n",
              "          const element = document.querySelector('#df-48862dd7-0831-4878-b87c-31c2a01c804e');\n",
              "          const dataTable =\n",
              "            await google.colab.kernel.invokeFunction('convertToInteractive',\n",
              "                                                     [key], {});\n",
              "          if (!dataTable) return;\n",
              "\n",
              "          const docLinkHtml = 'Like what you see? Visit the ' +\n",
              "            '<a target=\"_blank\" href=https://colab.research.google.com/notebooks/data_table.ipynb>data table notebook</a>'\n",
              "            + ' to learn more about interactive tables.';\n",
              "          element.innerHTML = '';\n",
              "          dataTable['output_type'] = 'display_data';\n",
              "          await google.colab.output.renderOutput(dataTable, element);\n",
              "          const docLink = document.createElement('div');\n",
              "          docLink.innerHTML = docLinkHtml;\n",
              "          element.appendChild(docLink);\n",
              "        }\n",
              "      </script>\n",
              "    </div>\n",
              "  </div>\n",
              "  "
            ]
          },
          "metadata": {},
          "execution_count": 12
        }
      ]
    },
    {
      "cell_type": "code",
      "source": [
        "news_data.drop(news_data.loc[news_data['lang']!='en'].index, inplace=True)"
      ],
      "metadata": {
        "id": "b0_IDFEgWW7A"
      },
      "execution_count": null,
      "outputs": []
    },
    {
      "cell_type": "code",
      "source": [
        "news_data[news_data.lang != 'en']"
      ],
      "metadata": {
        "colab": {
          "base_uri": "https://localhost:8080/",
          "height": 49
        },
        "id": "blATxsuCWdNq",
        "outputId": "9d1e29f8-ead6-4025-8062-4d008a34694f"
      },
      "execution_count": null,
      "outputs": [
        {
          "output_type": "execute_result",
          "data": {
            "text/plain": [
              "Empty DataFrame\n",
              "Columns: [title, description, content, all_page, clean_page, lang]\n",
              "Index: []"
            ],
            "text/html": [
              "\n",
              "  <div id=\"df-baa0761a-1256-44e1-9c4e-53f9b031bb24\">\n",
              "    <div class=\"colab-df-container\">\n",
              "      <div>\n",
              "<style scoped>\n",
              "    .dataframe tbody tr th:only-of-type {\n",
              "        vertical-align: middle;\n",
              "    }\n",
              "\n",
              "    .dataframe tbody tr th {\n",
              "        vertical-align: top;\n",
              "    }\n",
              "\n",
              "    .dataframe thead th {\n",
              "        text-align: right;\n",
              "    }\n",
              "</style>\n",
              "<table border=\"1\" class=\"dataframe\">\n",
              "  <thead>\n",
              "    <tr style=\"text-align: right;\">\n",
              "      <th></th>\n",
              "      <th>title</th>\n",
              "      <th>description</th>\n",
              "      <th>content</th>\n",
              "      <th>all_page</th>\n",
              "      <th>clean_page</th>\n",
              "      <th>lang</th>\n",
              "    </tr>\n",
              "  </thead>\n",
              "  <tbody>\n",
              "  </tbody>\n",
              "</table>\n",
              "</div>\n",
              "      <button class=\"colab-df-convert\" onclick=\"convertToInteractive('df-baa0761a-1256-44e1-9c4e-53f9b031bb24')\"\n",
              "              title=\"Convert this dataframe to an interactive table.\"\n",
              "              style=\"display:none;\">\n",
              "        \n",
              "  <svg xmlns=\"http://www.w3.org/2000/svg\" height=\"24px\"viewBox=\"0 0 24 24\"\n",
              "       width=\"24px\">\n",
              "    <path d=\"M0 0h24v24H0V0z\" fill=\"none\"/>\n",
              "    <path d=\"M18.56 5.44l.94 2.06.94-2.06 2.06-.94-2.06-.94-.94-2.06-.94 2.06-2.06.94zm-11 1L8.5 8.5l.94-2.06 2.06-.94-2.06-.94L8.5 2.5l-.94 2.06-2.06.94zm10 10l.94 2.06.94-2.06 2.06-.94-2.06-.94-.94-2.06-.94 2.06-2.06.94z\"/><path d=\"M17.41 7.96l-1.37-1.37c-.4-.4-.92-.59-1.43-.59-.52 0-1.04.2-1.43.59L10.3 9.45l-7.72 7.72c-.78.78-.78 2.05 0 2.83L4 21.41c.39.39.9.59 1.41.59.51 0 1.02-.2 1.41-.59l7.78-7.78 2.81-2.81c.8-.78.8-2.07 0-2.86zM5.41 20L4 18.59l7.72-7.72 1.47 1.35L5.41 20z\"/>\n",
              "  </svg>\n",
              "      </button>\n",
              "      \n",
              "  <style>\n",
              "    .colab-df-container {\n",
              "      display:flex;\n",
              "      flex-wrap:wrap;\n",
              "      gap: 12px;\n",
              "    }\n",
              "\n",
              "    .colab-df-convert {\n",
              "      background-color: #E8F0FE;\n",
              "      border: none;\n",
              "      border-radius: 50%;\n",
              "      cursor: pointer;\n",
              "      display: none;\n",
              "      fill: #1967D2;\n",
              "      height: 32px;\n",
              "      padding: 0 0 0 0;\n",
              "      width: 32px;\n",
              "    }\n",
              "\n",
              "    .colab-df-convert:hover {\n",
              "      background-color: #E2EBFA;\n",
              "      box-shadow: 0px 1px 2px rgba(60, 64, 67, 0.3), 0px 1px 3px 1px rgba(60, 64, 67, 0.15);\n",
              "      fill: #174EA6;\n",
              "    }\n",
              "\n",
              "    [theme=dark] .colab-df-convert {\n",
              "      background-color: #3B4455;\n",
              "      fill: #D2E3FC;\n",
              "    }\n",
              "\n",
              "    [theme=dark] .colab-df-convert:hover {\n",
              "      background-color: #434B5C;\n",
              "      box-shadow: 0px 1px 3px 1px rgba(0, 0, 0, 0.15);\n",
              "      filter: drop-shadow(0px 1px 2px rgba(0, 0, 0, 0.3));\n",
              "      fill: #FFFFFF;\n",
              "    }\n",
              "  </style>\n",
              "\n",
              "      <script>\n",
              "        const buttonEl =\n",
              "          document.querySelector('#df-baa0761a-1256-44e1-9c4e-53f9b031bb24 button.colab-df-convert');\n",
              "        buttonEl.style.display =\n",
              "          google.colab.kernel.accessAllowed ? 'block' : 'none';\n",
              "\n",
              "        async function convertToInteractive(key) {\n",
              "          const element = document.querySelector('#df-baa0761a-1256-44e1-9c4e-53f9b031bb24');\n",
              "          const dataTable =\n",
              "            await google.colab.kernel.invokeFunction('convertToInteractive',\n",
              "                                                     [key], {});\n",
              "          if (!dataTable) return;\n",
              "\n",
              "          const docLinkHtml = 'Like what you see? Visit the ' +\n",
              "            '<a target=\"_blank\" href=https://colab.research.google.com/notebooks/data_table.ipynb>data table notebook</a>'\n",
              "            + ' to learn more about interactive tables.';\n",
              "          element.innerHTML = '';\n",
              "          dataTable['output_type'] = 'display_data';\n",
              "          await google.colab.output.renderOutput(dataTable, element);\n",
              "          const docLink = document.createElement('div');\n",
              "          docLink.innerHTML = docLinkHtml;\n",
              "          element.appendChild(docLink);\n",
              "        }\n",
              "      </script>\n",
              "    </div>\n",
              "  </div>\n",
              "  "
            ]
          },
          "metadata": {},
          "execution_count": 14
        }
      ]
    },
    {
      "cell_type": "code",
      "source": [
        "print('number of nan: ',news_data.isnull().sum())"
      ],
      "metadata": {
        "colab": {
          "base_uri": "https://localhost:8080/"
        },
        "id": "TRMdSsO_5-sk",
        "outputId": "34f6a00d-a406-4922-cc27-4ea1145e33da"
      },
      "execution_count": null,
      "outputs": [
        {
          "output_type": "stream",
          "name": "stdout",
          "text": [
            "number of nan:  title          0\n",
            "description    0\n",
            "content        0\n",
            "all_page       0\n",
            "clean_page     0\n",
            "lang           0\n",
            "dtype: int64\n"
          ]
        }
      ]
    },
    {
      "cell_type": "code",
      "source": [
        "news_data.head()"
      ],
      "metadata": {
        "colab": {
          "base_uri": "https://localhost:8080/",
          "height": 337
        },
        "id": "vP-ZA3usY5nB",
        "outputId": "df06ec65-0df3-4084-ebb4-c60c26a61926"
      },
      "execution_count": null,
      "outputs": [
        {
          "output_type": "execute_result",
          "data": {
            "text/plain": [
              "                                               title  \\\n",
              "0  Russia-Ukraine latest news: Mariupol's final d...   \n",
              "1  Updates - Two arrested in Birmingham after one...   \n",
              "2  Netflix turns to adverts as subscriber slump s...   \n",
              "3  Jahangirpuri demolition drive Live Updates: No...   \n",
              "7  B.C. poultry farmers uniquely equipped to resp...   \n",
              "\n",
              "                                         description  \\\n",
              "0  The final Ukrainian fighters in the besieged p...   \n",
              "1  Emergency services were called to the one-year...   \n",
              "2  Netflix will roll out a cheaper, advertising-s...   \n",
              "3  Delhi Temperature Today, Jahangirpuri Violence...   \n",
              "7  VANCOUVER — Poultry farmers in British Columbi...   \n",
              "\n",
              "                                             content  \\\n",
              "0  Wearing a grey tracksuit with a sleeve rolled ...   \n",
              "1  A man and a woman have been arrested following...   \n",
              "2  Good morning. \\r\\nNetflix is tearing up all it...   \n",
              "3  The Ashram underpass is set to completely open...   \n",
              "7  Author of the article:\\r\\nArticle content\\r\\nV...   \n",
              "\n",
              "                                            all_page  \\\n",
              "0  Russia-Ukraine latest news: Mariupol's final d...   \n",
              "1  Updates - Two arrested in Birmingham after one...   \n",
              "2  Netflix turns to adverts as subscriber slump s...   \n",
              "3  Jahangirpuri demolition drive Live Updates: No...   \n",
              "7  B.C. poultry farmers uniquely equipped to resp...   \n",
              "\n",
              "                                          clean_page lang  \n",
              "0  russia ukraine latest news  mariupol final def...   en  \n",
              "1  updates   two arrested birmingham one year old...   en  \n",
              "2  netflix turns adverts subscriber slump sends s...   en  \n",
              "3  jahangirpuri demolition drive live updates  no...   en  \n",
              "7  b c  poultry farmers uniquely equipped respond...   en  "
            ],
            "text/html": [
              "\n",
              "  <div id=\"df-23ed3839-de7e-4f37-9fd5-dd2cce1b3c8d\">\n",
              "    <div class=\"colab-df-container\">\n",
              "      <div>\n",
              "<style scoped>\n",
              "    .dataframe tbody tr th:only-of-type {\n",
              "        vertical-align: middle;\n",
              "    }\n",
              "\n",
              "    .dataframe tbody tr th {\n",
              "        vertical-align: top;\n",
              "    }\n",
              "\n",
              "    .dataframe thead th {\n",
              "        text-align: right;\n",
              "    }\n",
              "</style>\n",
              "<table border=\"1\" class=\"dataframe\">\n",
              "  <thead>\n",
              "    <tr style=\"text-align: right;\">\n",
              "      <th></th>\n",
              "      <th>title</th>\n",
              "      <th>description</th>\n",
              "      <th>content</th>\n",
              "      <th>all_page</th>\n",
              "      <th>clean_page</th>\n",
              "      <th>lang</th>\n",
              "    </tr>\n",
              "  </thead>\n",
              "  <tbody>\n",
              "    <tr>\n",
              "      <th>0</th>\n",
              "      <td>Russia-Ukraine latest news: Mariupol's final d...</td>\n",
              "      <td>The final Ukrainian fighters in the besieged p...</td>\n",
              "      <td>Wearing a grey tracksuit with a sleeve rolled ...</td>\n",
              "      <td>Russia-Ukraine latest news: Mariupol's final d...</td>\n",
              "      <td>russia ukraine latest news  mariupol final def...</td>\n",
              "      <td>en</td>\n",
              "    </tr>\n",
              "    <tr>\n",
              "      <th>1</th>\n",
              "      <td>Updates - Two arrested in Birmingham after one...</td>\n",
              "      <td>Emergency services were called to the one-year...</td>\n",
              "      <td>A man and a woman have been arrested following...</td>\n",
              "      <td>Updates - Two arrested in Birmingham after one...</td>\n",
              "      <td>updates   two arrested birmingham one year old...</td>\n",
              "      <td>en</td>\n",
              "    </tr>\n",
              "    <tr>\n",
              "      <th>2</th>\n",
              "      <td>Netflix turns to adverts as subscriber slump s...</td>\n",
              "      <td>Netflix will roll out a cheaper, advertising-s...</td>\n",
              "      <td>Good morning. \\r\\nNetflix is tearing up all it...</td>\n",
              "      <td>Netflix turns to adverts as subscriber slump s...</td>\n",
              "      <td>netflix turns adverts subscriber slump sends s...</td>\n",
              "      <td>en</td>\n",
              "    </tr>\n",
              "    <tr>\n",
              "      <th>3</th>\n",
              "      <td>Jahangirpuri demolition drive Live Updates: No...</td>\n",
              "      <td>Delhi Temperature Today, Jahangirpuri Violence...</td>\n",
              "      <td>The Ashram underpass is set to completely open...</td>\n",
              "      <td>Jahangirpuri demolition drive Live Updates: No...</td>\n",
              "      <td>jahangirpuri demolition drive live updates  no...</td>\n",
              "      <td>en</td>\n",
              "    </tr>\n",
              "    <tr>\n",
              "      <th>7</th>\n",
              "      <td>B.C. poultry farmers uniquely equipped to resp...</td>\n",
              "      <td>VANCOUVER — Poultry farmers in British Columbi...</td>\n",
              "      <td>Author of the article:\\r\\nArticle content\\r\\nV...</td>\n",
              "      <td>B.C. poultry farmers uniquely equipped to resp...</td>\n",
              "      <td>b c  poultry farmers uniquely equipped respond...</td>\n",
              "      <td>en</td>\n",
              "    </tr>\n",
              "  </tbody>\n",
              "</table>\n",
              "</div>\n",
              "      <button class=\"colab-df-convert\" onclick=\"convertToInteractive('df-23ed3839-de7e-4f37-9fd5-dd2cce1b3c8d')\"\n",
              "              title=\"Convert this dataframe to an interactive table.\"\n",
              "              style=\"display:none;\">\n",
              "        \n",
              "  <svg xmlns=\"http://www.w3.org/2000/svg\" height=\"24px\"viewBox=\"0 0 24 24\"\n",
              "       width=\"24px\">\n",
              "    <path d=\"M0 0h24v24H0V0z\" fill=\"none\"/>\n",
              "    <path d=\"M18.56 5.44l.94 2.06.94-2.06 2.06-.94-2.06-.94-.94-2.06-.94 2.06-2.06.94zm-11 1L8.5 8.5l.94-2.06 2.06-.94-2.06-.94L8.5 2.5l-.94 2.06-2.06.94zm10 10l.94 2.06.94-2.06 2.06-.94-2.06-.94-.94-2.06-.94 2.06-2.06.94z\"/><path d=\"M17.41 7.96l-1.37-1.37c-.4-.4-.92-.59-1.43-.59-.52 0-1.04.2-1.43.59L10.3 9.45l-7.72 7.72c-.78.78-.78 2.05 0 2.83L4 21.41c.39.39.9.59 1.41.59.51 0 1.02-.2 1.41-.59l7.78-7.78 2.81-2.81c.8-.78.8-2.07 0-2.86zM5.41 20L4 18.59l7.72-7.72 1.47 1.35L5.41 20z\"/>\n",
              "  </svg>\n",
              "      </button>\n",
              "      \n",
              "  <style>\n",
              "    .colab-df-container {\n",
              "      display:flex;\n",
              "      flex-wrap:wrap;\n",
              "      gap: 12px;\n",
              "    }\n",
              "\n",
              "    .colab-df-convert {\n",
              "      background-color: #E8F0FE;\n",
              "      border: none;\n",
              "      border-radius: 50%;\n",
              "      cursor: pointer;\n",
              "      display: none;\n",
              "      fill: #1967D2;\n",
              "      height: 32px;\n",
              "      padding: 0 0 0 0;\n",
              "      width: 32px;\n",
              "    }\n",
              "\n",
              "    .colab-df-convert:hover {\n",
              "      background-color: #E2EBFA;\n",
              "      box-shadow: 0px 1px 2px rgba(60, 64, 67, 0.3), 0px 1px 3px 1px rgba(60, 64, 67, 0.15);\n",
              "      fill: #174EA6;\n",
              "    }\n",
              "\n",
              "    [theme=dark] .colab-df-convert {\n",
              "      background-color: #3B4455;\n",
              "      fill: #D2E3FC;\n",
              "    }\n",
              "\n",
              "    [theme=dark] .colab-df-convert:hover {\n",
              "      background-color: #434B5C;\n",
              "      box-shadow: 0px 1px 3px 1px rgba(0, 0, 0, 0.15);\n",
              "      filter: drop-shadow(0px 1px 2px rgba(0, 0, 0, 0.3));\n",
              "      fill: #FFFFFF;\n",
              "    }\n",
              "  </style>\n",
              "\n",
              "      <script>\n",
              "        const buttonEl =\n",
              "          document.querySelector('#df-23ed3839-de7e-4f37-9fd5-dd2cce1b3c8d button.colab-df-convert');\n",
              "        buttonEl.style.display =\n",
              "          google.colab.kernel.accessAllowed ? 'block' : 'none';\n",
              "\n",
              "        async function convertToInteractive(key) {\n",
              "          const element = document.querySelector('#df-23ed3839-de7e-4f37-9fd5-dd2cce1b3c8d');\n",
              "          const dataTable =\n",
              "            await google.colab.kernel.invokeFunction('convertToInteractive',\n",
              "                                                     [key], {});\n",
              "          if (!dataTable) return;\n",
              "\n",
              "          const docLinkHtml = 'Like what you see? Visit the ' +\n",
              "            '<a target=\"_blank\" href=https://colab.research.google.com/notebooks/data_table.ipynb>data table notebook</a>'\n",
              "            + ' to learn more about interactive tables.';\n",
              "          element.innerHTML = '';\n",
              "          dataTable['output_type'] = 'display_data';\n",
              "          await google.colab.output.renderOutput(dataTable, element);\n",
              "          const docLink = document.createElement('div');\n",
              "          docLink.innerHTML = docLinkHtml;\n",
              "          element.appendChild(docLink);\n",
              "        }\n",
              "      </script>\n",
              "    </div>\n",
              "  </div>\n",
              "  "
            ]
          },
          "metadata": {},
          "execution_count": 16
        }
      ]
    },
    {
      "cell_type": "code",
      "source": [
        "news_data.iloc[0]['clean_page']"
      ],
      "metadata": {
        "colab": {
          "base_uri": "https://localhost:8080/",
          "height": 69
        },
        "id": "DZHYjCc0etYD",
        "outputId": "27fd116d-5837-4fdd-c755-042a55114b1b"
      },
      "execution_count": null,
      "outputs": [
        {
          "output_type": "execute_result",
          "data": {
            "text/plain": [
              "'russia ukraine latest news  mariupol final defenders facing  last hours   warns trapped fighter   the telegraph the final ukrainian fighters besieged port city mariupol could  quot facing last days  hours quot   ukrainian commander warned  wearing grey tracksuit sleeve rolled shoulder 71 year old vladimir lignov shuffles corridor refugee centre ukraine  revealingthe remains severed limb says h   611 chars'"
            ],
            "application/vnd.google.colaboratory.intrinsic+json": {
              "type": "string"
            }
          },
          "metadata": {},
          "execution_count": 17
        }
      ]
    },
    {
      "cell_type": "code",
      "source": [
        "from sklearn.feature_extraction.text import TfidfVectorizer\n",
        "from sklearn.feature_extraction.text import CountVectorizer\n",
        "from keras.preprocessing.text import Tokenizer\n",
        "from keras.preprocessing.sequence import pad_sequences"
      ],
      "metadata": {
        "id": "RgwtarJmXseo"
      },
      "execution_count": null,
      "outputs": []
    },
    {
      "cell_type": "code",
      "source": [
        "vectorizer = CountVectorizer(stop_words = 'english', max_df = 20)\n",
        "A = vectorizer.fit_transform(news_data['clean_page'])\n",
        "print( \"Created %d X %d document-term matrix\" % (A.shape[0], A.shape[1]) )\n",
        "terms =  list(vectorizer.get_feature_names_out())\n",
        "print(\"Vocabulary has %d distinct terms\" % len(terms))"
      ],
      "metadata": {
        "colab": {
          "base_uri": "https://localhost:8080/"
        },
        "id": "axaZcwY8Xuxh",
        "outputId": "89759517-f226-495d-9cf9-6aa7615d2cab"
      },
      "execution_count": null,
      "outputs": [
        {
          "output_type": "stream",
          "name": "stdout",
          "text": [
            "Created 80 X 1898 document-term matrix\n",
            "Vocabulary has 1898 distinct terms\n"
          ]
        }
      ]
    },
    {
      "cell_type": "code",
      "source": [
        "list(vectorizer.vocabulary_.items())[:2]"
      ],
      "metadata": {
        "colab": {
          "base_uri": "https://localhost:8080/"
        },
        "id": "ZDT6ONM1YwHW",
        "outputId": "262c82e0-b8c5-4b45-d378-bad7bf342048"
      },
      "execution_count": null,
      "outputs": [
        {
          "output_type": "execute_result",
          "data": {
            "text/plain": [
              "[('russia', 1485), ('ukraine', 1764)]"
            ]
          },
          "metadata": {},
          "execution_count": 20
        }
      ]
    },
    {
      "cell_type": "code",
      "source": [
        "joblib.dump((A,terms,news_data['clean_page']), \"articles-raw.pkl\") "
      ],
      "metadata": {
        "colab": {
          "base_uri": "https://localhost:8080/"
        },
        "id": "m5FRs1pEbxi2",
        "outputId": "ec7c75c6-94d7-45cf-dcc0-401a627c4565"
      },
      "execution_count": null,
      "outputs": [
        {
          "output_type": "execute_result",
          "data": {
            "text/plain": [
              "['articles-raw.pkl']"
            ]
          },
          "metadata": {},
          "execution_count": 21
        }
      ]
    },
    {
      "cell_type": "markdown",
      "source": [
        "## **TF-IDF**"
      ],
      "metadata": {
        "id": "OuvSFkLo7WqD"
      }
    },
    {
      "cell_type": "code",
      "source": [
        "import operator, joblib\n",
        "\n",
        "def rank_terms( A, terms ):\n",
        "    # get the sums over each column\n",
        "    sums = A.sum(axis=0)\n",
        "    # map weights to the terms\n",
        "    weights = {}\n",
        "    for col, term in enumerate(terms):\n",
        "        weights[term] = sums[0,col]\n",
        "    # rank the terms by their weight over all documents\n",
        "    return sorted(weights.items(), key=operator.itemgetter(1), reverse=True)"
      ],
      "metadata": {
        "id": "vqJwKbDRdD-j"
      },
      "execution_count": null,
      "outputs": []
    },
    {
      "cell_type": "code",
      "source": [
        "ranking = rank_terms(A, terms)\n",
        "for i, pair in enumerate(ranking[0:20]):\n",
        "    print( \"%02d. %s (%.2f)\" % (i+1, pair[0], pair[1] ))"
      ],
      "metadata": {
        "colab": {
          "base_uri": "https://localhost:8080/"
        },
        "id": "wiPQTAdPdVnn",
        "outputId": "5a599e1d-e569-4fa8-d08d-fdbb341877ad"
      },
      "execution_count": null,
      "outputs": [
        {
          "output_type": "stream",
          "name": "stdout",
          "text": [
            "01. news (19.00)\n",
            "02. year (17.00)\n",
            "03. live (16.00)\n",
            "04. ukraine (14.00)\n",
            "05. 000 (11.00)\n",
            "06. netflix (11.00)\n",
            "07. russia (11.00)\n",
            "08. covid (10.00)\n",
            "09. herald (10.00)\n",
            "10. mariupol (10.00)\n",
            "11. minister (10.00)\n",
            "12. old (10.00)\n",
            "13. star (10.00)\n",
            "14. time (10.00)\n",
            "15. updates (10.00)\n",
            "16. world (10.00)\n",
            "17. 20 (9.00)\n",
            "18. 200 (9.00)\n",
            "19. claims (9.00)\n",
            "20. today (9.00)\n"
          ]
        }
      ]
    },
    {
      "cell_type": "code",
      "source": [
        "TF_IDF_Vect = TfidfVectorizer(stop_words='english',use_idf=True)\n",
        "TF_X =  TF_IDF_Vect.fit_transform(news_data['clean_page'])\n",
        "X_TF = TF_X.todense()\n",
        "terms_X =  list(vectorizer.get_feature_names_out())\n",
        "first_vector_tfidfvectorizer=X_TF[1] \n",
        "tfidf = pd.DataFrame(first_vector_tfidfvectorizer.T, index=TF_IDF_Vect.get_feature_names(), columns=[\"tfidf\"])\n",
        "tfidf.sort_values(by=[\"tfidf\"],ascending=False)"
      ],
      "metadata": {
        "colab": {
          "base_uri": "https://localhost:8080/",
          "height": 478
        },
        "id": "Zj4kVZ0-dsGo",
        "outputId": "e053b29b-cc75-4110-ea4e-f50b3743835c"
      },
      "execution_count": null,
      "outputs": [
        {
          "output_type": "stream",
          "name": "stderr",
          "text": [
            "/usr/local/lib/python3.7/dist-packages/sklearn/utils/deprecation.py:87: FutureWarning: Function get_feature_names is deprecated; get_feature_names is deprecated in 1.0 and will be removed in 1.2. Please use get_feature_names_out instead.\n",
            "  warnings.warn(msg, category=FutureWarning)\n"
          ]
        },
        {
          "output_type": "execute_result",
          "data": {
            "text/plain": [
              "              tfidf\n",
              "old        0.282042\n",
              "emergency  0.276482\n",
              "boy        0.276482\n",
              "called     0.276482\n",
              "cardiac    0.276482\n",
              "...             ...\n",
              "evening    0.000000\n",
              "evacuati   0.000000\n",
              "ev         0.000000\n",
              "ethekwini  0.000000\n",
              "zuko       0.000000\n",
              "\n",
              "[1900 rows x 1 columns]"
            ],
            "text/html": [
              "\n",
              "  <div id=\"df-0aba2a3d-cded-40ae-b481-efeb257595ea\">\n",
              "    <div class=\"colab-df-container\">\n",
              "      <div>\n",
              "<style scoped>\n",
              "    .dataframe tbody tr th:only-of-type {\n",
              "        vertical-align: middle;\n",
              "    }\n",
              "\n",
              "    .dataframe tbody tr th {\n",
              "        vertical-align: top;\n",
              "    }\n",
              "\n",
              "    .dataframe thead th {\n",
              "        text-align: right;\n",
              "    }\n",
              "</style>\n",
              "<table border=\"1\" class=\"dataframe\">\n",
              "  <thead>\n",
              "    <tr style=\"text-align: right;\">\n",
              "      <th></th>\n",
              "      <th>tfidf</th>\n",
              "    </tr>\n",
              "  </thead>\n",
              "  <tbody>\n",
              "    <tr>\n",
              "      <th>old</th>\n",
              "      <td>0.282042</td>\n",
              "    </tr>\n",
              "    <tr>\n",
              "      <th>emergency</th>\n",
              "      <td>0.276482</td>\n",
              "    </tr>\n",
              "    <tr>\n",
              "      <th>boy</th>\n",
              "      <td>0.276482</td>\n",
              "    </tr>\n",
              "    <tr>\n",
              "      <th>called</th>\n",
              "      <td>0.276482</td>\n",
              "    </tr>\n",
              "    <tr>\n",
              "      <th>cardiac</th>\n",
              "      <td>0.276482</td>\n",
              "    </tr>\n",
              "    <tr>\n",
              "      <th>...</th>\n",
              "      <td>...</td>\n",
              "    </tr>\n",
              "    <tr>\n",
              "      <th>evening</th>\n",
              "      <td>0.000000</td>\n",
              "    </tr>\n",
              "    <tr>\n",
              "      <th>evacuati</th>\n",
              "      <td>0.000000</td>\n",
              "    </tr>\n",
              "    <tr>\n",
              "      <th>ev</th>\n",
              "      <td>0.000000</td>\n",
              "    </tr>\n",
              "    <tr>\n",
              "      <th>ethekwini</th>\n",
              "      <td>0.000000</td>\n",
              "    </tr>\n",
              "    <tr>\n",
              "      <th>zuko</th>\n",
              "      <td>0.000000</td>\n",
              "    </tr>\n",
              "  </tbody>\n",
              "</table>\n",
              "<p>1900 rows × 1 columns</p>\n",
              "</div>\n",
              "      <button class=\"colab-df-convert\" onclick=\"convertToInteractive('df-0aba2a3d-cded-40ae-b481-efeb257595ea')\"\n",
              "              title=\"Convert this dataframe to an interactive table.\"\n",
              "              style=\"display:none;\">\n",
              "        \n",
              "  <svg xmlns=\"http://www.w3.org/2000/svg\" height=\"24px\"viewBox=\"0 0 24 24\"\n",
              "       width=\"24px\">\n",
              "    <path d=\"M0 0h24v24H0V0z\" fill=\"none\"/>\n",
              "    <path d=\"M18.56 5.44l.94 2.06.94-2.06 2.06-.94-2.06-.94-.94-2.06-.94 2.06-2.06.94zm-11 1L8.5 8.5l.94-2.06 2.06-.94-2.06-.94L8.5 2.5l-.94 2.06-2.06.94zm10 10l.94 2.06.94-2.06 2.06-.94-2.06-.94-.94-2.06-.94 2.06-2.06.94z\"/><path d=\"M17.41 7.96l-1.37-1.37c-.4-.4-.92-.59-1.43-.59-.52 0-1.04.2-1.43.59L10.3 9.45l-7.72 7.72c-.78.78-.78 2.05 0 2.83L4 21.41c.39.39.9.59 1.41.59.51 0 1.02-.2 1.41-.59l7.78-7.78 2.81-2.81c.8-.78.8-2.07 0-2.86zM5.41 20L4 18.59l7.72-7.72 1.47 1.35L5.41 20z\"/>\n",
              "  </svg>\n",
              "      </button>\n",
              "      \n",
              "  <style>\n",
              "    .colab-df-container {\n",
              "      display:flex;\n",
              "      flex-wrap:wrap;\n",
              "      gap: 12px;\n",
              "    }\n",
              "\n",
              "    .colab-df-convert {\n",
              "      background-color: #E8F0FE;\n",
              "      border: none;\n",
              "      border-radius: 50%;\n",
              "      cursor: pointer;\n",
              "      display: none;\n",
              "      fill: #1967D2;\n",
              "      height: 32px;\n",
              "      padding: 0 0 0 0;\n",
              "      width: 32px;\n",
              "    }\n",
              "\n",
              "    .colab-df-convert:hover {\n",
              "      background-color: #E2EBFA;\n",
              "      box-shadow: 0px 1px 2px rgba(60, 64, 67, 0.3), 0px 1px 3px 1px rgba(60, 64, 67, 0.15);\n",
              "      fill: #174EA6;\n",
              "    }\n",
              "\n",
              "    [theme=dark] .colab-df-convert {\n",
              "      background-color: #3B4455;\n",
              "      fill: #D2E3FC;\n",
              "    }\n",
              "\n",
              "    [theme=dark] .colab-df-convert:hover {\n",
              "      background-color: #434B5C;\n",
              "      box-shadow: 0px 1px 3px 1px rgba(0, 0, 0, 0.15);\n",
              "      filter: drop-shadow(0px 1px 2px rgba(0, 0, 0, 0.3));\n",
              "      fill: #FFFFFF;\n",
              "    }\n",
              "  </style>\n",
              "\n",
              "      <script>\n",
              "        const buttonEl =\n",
              "          document.querySelector('#df-0aba2a3d-cded-40ae-b481-efeb257595ea button.colab-df-convert');\n",
              "        buttonEl.style.display =\n",
              "          google.colab.kernel.accessAllowed ? 'block' : 'none';\n",
              "\n",
              "        async function convertToInteractive(key) {\n",
              "          const element = document.querySelector('#df-0aba2a3d-cded-40ae-b481-efeb257595ea');\n",
              "          const dataTable =\n",
              "            await google.colab.kernel.invokeFunction('convertToInteractive',\n",
              "                                                     [key], {});\n",
              "          if (!dataTable) return;\n",
              "\n",
              "          const docLinkHtml = 'Like what you see? Visit the ' +\n",
              "            '<a target=\"_blank\" href=https://colab.research.google.com/notebooks/data_table.ipynb>data table notebook</a>'\n",
              "            + ' to learn more about interactive tables.';\n",
              "          element.innerHTML = '';\n",
              "          dataTable['output_type'] = 'display_data';\n",
              "          await google.colab.output.renderOutput(dataTable, element);\n",
              "          const docLink = document.createElement('div');\n",
              "          docLink.innerHTML = docLinkHtml;\n",
              "          element.appendChild(docLink);\n",
              "        }\n",
              "      </script>\n",
              "    </div>\n",
              "  </div>\n",
              "  "
            ]
          },
          "metadata": {},
          "execution_count": 24
        }
      ]
    },
    {
      "cell_type": "code",
      "source": [
        "joblib.dump((TF_X,terms_X,news_data['clean_page']), \"articles-tfidf.pkl\") \n"
      ],
      "metadata": {
        "colab": {
          "base_uri": "https://localhost:8080/"
        },
        "id": "0UMb1sQIo0Qb",
        "outputId": "2c993aac-6894-4f67-9e9b-d442b589b766"
      },
      "execution_count": null,
      "outputs": [
        {
          "output_type": "execute_result",
          "data": {
            "text/plain": [
              "['articles-tfidf.pkl']"
            ]
          },
          "metadata": {},
          "execution_count": 26
        }
      ]
    },
    {
      "cell_type": "code",
      "source": [
        "(A, terms, snippets) = joblib.load(\"articles-tfidf.pkl\")\n",
        "print(\"Loaded %d X %d document-term matrix\" % (A.shape[0], A.shape[1]))"
      ],
      "metadata": {
        "colab": {
          "base_uri": "https://localhost:8080/"
        },
        "id": "axOd63ZJo-wg",
        "outputId": "acad4cde-220b-4d9a-bac8-c705c9388e0f"
      },
      "execution_count": null,
      "outputs": [
        {
          "output_type": "stream",
          "name": "stdout",
          "text": [
            "Loaded 80 X 1900 document-term matrix\n"
          ]
        }
      ]
    },
    {
      "cell_type": "markdown",
      "source": [
        "# **Modeling**"
      ],
      "metadata": {
        "id": "T8Pywaf2t0ww"
      }
    },
    {
      "cell_type": "markdown",
      "source": [
        "# **APPLY NMF**\n",
        "\n",
        "## Non-negative Matrix Factorisation (NMF)\n",
        "\n",
        "### Matrix Factorisation approach applies methods from linear algebra to decompose a document-term matrix into a set of smaller matrices\n",
        "\n",
        "NMF can be applied for topic modeling, where the input is a document-term matrix, typically TF-IDF normalised.\n",
        "\n",
        "**Input**: Document-term matrix A; Number of topics k\n",
        "\n",
        "**Output**: Two k-dimensional factors W and H approximating A"
      ],
      "metadata": {
        "id": "kpBE7noQ-hGs"
      }
    },
    {
      "cell_type": "code",
      "source": [
        "import joblib\n",
        "import numpy as np\n",
        "from sklearn import decomposition\n",
        "%matplotlib inline\n",
        "import numpy as np\n",
        "import matplotlib\n",
        "import matplotlib.pyplot as plt\n",
        "# settings for our plots later\n",
        "plt.style.use(\"ggplot\")\n",
        "matplotlib.rcParams.update({\"font.size\": 14})"
      ],
      "metadata": {
        "id": "q_nVje4G-Ucv"
      },
      "execution_count": null,
      "outputs": []
    },
    {
      "cell_type": "code",
      "source": [
        "# The number of topics to generate, k (input parameter to NMF)\n",
        "k = 10"
      ],
      "metadata": {
        "id": "ib-X8gShM1Gf"
      },
      "execution_count": null,
      "outputs": []
    },
    {
      "cell_type": "code",
      "source": [
        "# CREATE model\n",
        "# specify initialization & number of topics to produce\n",
        "model = decomposition.NMF(init=\"nndsvd\", n_components=k) \n",
        "# apply the model and extract the two factor matrices\n",
        "W = model.fit_transform( A )\n",
        "H = model.components_"
      ],
      "metadata": {
        "id": "5onc77EjE8Qq",
        "colab": {
          "base_uri": "https://localhost:8080/"
        },
        "outputId": "3492d649-3743-4ed6-c13b-f3a7184d5582"
      },
      "execution_count": null,
      "outputs": [
        {
          "output_type": "stream",
          "name": "stderr",
          "text": [
            "/usr/local/lib/python3.7/dist-packages/sklearn/decomposition/_nmf.py:1641: ConvergenceWarning: Maximum number of iterations 200 reached. Increase it to improve convergence.\n",
            "  ConvergenceWarning,\n"
          ]
        }
      ]
    },
    {
      "cell_type": "code",
      "source": [
        "# CHECK output matrix\n",
        "W.shape"
      ],
      "metadata": {
        "colab": {
          "base_uri": "https://localhost:8080/"
        },
        "id": "TGoERBnbE8Sj",
        "outputId": "4eea8a04-3326-4b6b-e10e-d59676be21ad"
      },
      "execution_count": null,
      "outputs": [
        {
          "output_type": "execute_result",
          "data": {
            "text/plain": [
              "(80, 10)"
            ]
          },
          "metadata": {},
          "execution_count": 31
        }
      ]
    },
    {
      "cell_type": "code",
      "source": [
        "# For instance, for the first article, we see that it is strongly associated\n",
        "# with one topic. However, each article can be potentially associated \n",
        "# with multiple topics to different degrees.\n",
        "\n",
        "# Display with two decimals\n",
        "W[0,:].round(2)"
      ],
      "metadata": {
        "colab": {
          "base_uri": "https://localhost:8080/"
        },
        "id": "MbEwYy5TFA8O",
        "outputId": "4c51e8a7-e126-477f-b846-250eecf5a3c1"
      },
      "execution_count": null,
      "outputs": [
        {
          "output_type": "execute_result",
          "data": {
            "text/plain": [
              "array([0.  , 0.  , 0.  , 0.6 , 0.  , 0.01, 0.  , 0.  , 0.  , 0.  ])"
            ]
          },
          "metadata": {},
          "execution_count": 32
        }
      ]
    },
    {
      "cell_type": "code",
      "source": [
        "# The H factor contains the term weights relative to each of the k topics. \n",
        "# Here rows correspond to a topic, and each column corresponds to a unique \n",
        "# term in the corpus vocabulary\n",
        "\n",
        "H.shape"
      ],
      "metadata": {
        "colab": {
          "base_uri": "https://localhost:8080/"
        },
        "id": "F_760ParFBAF",
        "outputId": "ca3036fd-d3a2-481e-cb07-dd8ec62578f9"
      },
      "execution_count": null,
      "outputs": [
        {
          "output_type": "execute_result",
          "data": {
            "text/plain": [
              "(10, 1900)"
            ]
          },
          "metadata": {},
          "execution_count": 33
        }
      ]
    },
    {
      "cell_type": "code",
      "source": [
        "term_index = terms.index('russia')\n",
        "# round to 2 decimal places for display purposes\n",
        "H[:,term_index].round(2)"
      ],
      "metadata": {
        "colab": {
          "base_uri": "https://localhost:8080/"
        },
        "id": "aYPBP8riFBCI",
        "outputId": "8789f086-6500-4d8a-80b3-d79eaa3310a8"
      },
      "execution_count": null,
      "outputs": [
        {
          "output_type": "execute_result",
          "data": {
            "text/plain": [
              "array([0.01, 0.  , 0.  , 0.  , 0.01, 0.  , 0.  , 0.01, 0.  , 0.  ])"
            ]
          },
          "metadata": {},
          "execution_count": 34
        }
      ]
    },
    {
      "cell_type": "markdown",
      "source": [
        "# **Evaluation**"
      ],
      "metadata": {
        "id": "0qBXoK9WuDpi"
      }
    },
    {
      "cell_type": "markdown",
      "source": [
        "### **Topic Descriptors**"
      ],
      "metadata": {
        "id": "fnkppYsUFjYB"
      }
    },
    {
      "cell_type": "code",
      "source": [
        "def get_descriptor( terms, H, topic_index, top ):\n",
        "    # reverse sort the values to sort the indices\n",
        "    top_indices = np.argsort( H[topic_index,:] )[::-1]\n",
        "    # now get the terms corresponding to the top-ranked indices\n",
        "    top_terms = []\n",
        "    for term_index in top_indices[0:top]:\n",
        "        top_terms.append( terms[term_index] )\n",
        "    return top_terms"
      ],
      "metadata": {
        "id": "QFScw69PFBDg"
      },
      "execution_count": null,
      "outputs": []
    },
    {
      "cell_type": "code",
      "source": [
        "descriptors = []\n",
        "for topic_index in range(k):\n",
        "    descriptors.append( get_descriptor( terms, H, topic_index, 10 ) )\n",
        "    str_descriptor = \", \".join( descriptors[topic_index] )\n",
        "    print(\"Topic %02d: %s\" % ( topic_index+1, str_descriptor ) )"
      ],
      "metadata": {
        "colab": {
          "base_uri": "https://localhost:8080/"
        },
        "id": "WKjddFKdE8Ux",
        "outputId": "1cb31ee5-5dd0-4a1c-9918-5021ddf4e4f8"
      },
      "execution_count": null,
      "outputs": [
        {
          "output_type": "stream",
          "name": "stdout",
          "text": [
            "Topic 01: news, zen, heraldthe, low, possible, impres, hereditary, obtain, mirror, enforcement\n",
            "Topic 02: nethe, subsidia, lot, 200, 000, striker, subscribersthe, millions, giving, gst\n",
            "Topic 03: social, wow, outfitted, drops, showdown, invest, feature, inhaled, female, 11\n",
            "Topic 04: market, ukraineshelling, ultimae, russians, civilians, commands, forecast, besieged, russias, warned\n",
            "Topic 05: 20, number, newshub, 2022, breaking, pro, ministry, premium, morrisons, dominics\n",
            "Topic 06: yesterday, omicron, deaths, fans, birmingham, ponga, arrested, food, empires, cardiac\n",
            "Topic 07: seen, issues, son, falana, chris, pain, natural, dela, solomon, canberra\n",
            "Topic 08: liverpool, detention, olaitan, healthcare, diseases, china, mystery, worst, previous, ramsay\n",
            "Topic 09: buhari, press, multi, kwekut, bishop, spark, adesina, censured, women, dark\n",
            "Topic 10: rules, headaches, wrangling, crores, delivery, indonesia, working, problems, capital, urged\n"
          ]
        }
      ]
    },
    {
      "cell_type": "code",
      "source": [
        "def plot_top_term_weights( terms, H, topic_index, top ):\n",
        "    # get the top terms and their weights\n",
        "    top_indices = np.argsort( H[topic_index,:] )[::-1]\n",
        "    top_terms = []\n",
        "    top_weights = []\n",
        "    for term_index in top_indices[0:top]:\n",
        "        top_terms.append( terms[term_index] )\n",
        "        top_weights.append( H[topic_index,term_index] )\n",
        "    # note we reverse the ordering for the plot\n",
        "    top_terms.reverse()\n",
        "    top_weights.reverse()\n",
        "    # create the plot\n",
        "    fig = plt.figure(figsize=(13,8))\n",
        "    # add the horizontal bar chart\n",
        "    ypos = np.arange(top)\n",
        "    ax = plt.barh(ypos, top_weights, align=\"center\", color=\"green\",tick_label=top_terms)\n",
        "    plt.xlabel(\"Term Weight\",fontsize=14)\n",
        "    plt.tight_layout()\n",
        "    plt.show()"
      ],
      "metadata": {
        "id": "kygwTUDnFnZC"
      },
      "execution_count": null,
      "outputs": []
    },
    {
      "cell_type": "code",
      "source": [
        "plot_top_term_weights(terms, H, 5, 15)"
      ],
      "metadata": {
        "id": "3Xa6N8SIFnbd",
        "colab": {
          "base_uri": "https://localhost:8080/",
          "height": 577
        },
        "outputId": "f8888c5c-983b-41eb-88fa-a3d9c0521b86"
      },
      "execution_count": null,
      "outputs": [
        {
          "output_type": "display_data",
          "data": {
            "text/plain": [
              "<Figure size 936x576 with 1 Axes>"
            ],
            "image/png": "[encoded data removed]"
          },
          "metadata": {}
        }
      ]
    },
    {
      "cell_type": "code",
      "source": [
        "plot_top_term_weights(terms, H, 9, 15)\n"
      ],
      "metadata": {
        "id": "YylDFkSuKRxK",
        "colab": {
          "base_uri": "https://localhost:8080/",
          "height": 577
        },
        "outputId": "eac0399d-5bf4-4dcc-f8be-057f5fcba32e"
      },
      "execution_count": null,
      "outputs": [
        {
          "output_type": "display_data",
          "data": {
            "text/plain": [
              "<Figure size 936x576 with 1 Axes>"
            ],
            "image/png": "[encoded data removed]"
          },
          "metadata": {}
        }
      ]
    },
    {
      "cell_type": "markdown",
      "source": [
        "## **Most Relevant Documents**"
      ],
      "metadata": {
        "id": "hydMj0mHKUiX"
      }
    },
    {
      "cell_type": "code",
      "source": [
        "def get_top_snippets( all_snippets, W, topic_index, top ):\n",
        "    # reverse sort the values to sort the indices\n",
        "    top_indices = np.argsort( W[:,topic_index] )[::-1]\n",
        "    # now get the snippets corresponding to the top-ranked indices\n",
        "    top_snippets = []\n",
        "    for doc_index in top_indices[0:top]:\n",
        "        top_snippets.append(all_snippets.iloc[doc_index] )\n",
        "    return top_snippets"
      ],
      "metadata": {
        "id": "nikvYsetKR2H"
      },
      "execution_count": null,
      "outputs": []
    },
    {
      "cell_type": "code",
      "source": [
        "snippets.iloc[0]"
      ],
      "metadata": {
        "colab": {
          "base_uri": "https://localhost:8080/",
          "height": 69
        },
        "id": "aeNUJL7ySXjZ",
        "outputId": "6b02a140-bdb4-4bb0-d198-605fd689dc78"
      },
      "execution_count": null,
      "outputs": [
        {
          "output_type": "execute_result",
          "data": {
            "text/plain": [
              "'russia ukraine latest news  mariupol final defenders facing  last hours   warns trapped fighter   the telegraph the final ukrainian fighters besieged port city mariupol could  quot facing last days  hours quot   ukrainian commander warned  wearing grey tracksuit sleeve rolled shoulder 71 year old vladimir lignov shuffles corridor refugee centre ukraine  revealingthe remains severed limb says h   611 chars'"
            ],
            "application/vnd.google.colaboratory.intrinsic+json": {
              "type": "string"
            }
          },
          "metadata": {},
          "execution_count": 41
        }
      ]
    },
    {
      "cell_type": "code",
      "source": [
        "topic_snippets = get_top_snippets(snippets, W, 0, 10 )\n",
        "for i, snippet in enumerate(topic_snippets):\n",
        "    print(\"%02d. %s\" % ( (i+1), snippet ) )"
      ],
      "metadata": {
        "id": "xUH5oEnlKR4L",
        "colab": {
          "base_uri": "https://localhost:8080/"
        },
        "outputId": "f32a7947-360b-4ab8-abb9-4de54429e7e5"
      },
      "execution_count": null,
      "outputs": [
        {
          "output_type": "stream",
          "name": "stdout",
          "text": [
            "01. 13 deaths  11217 new covid cases delayed ministry announcement   new zealand herald omicron cases hospitalisations declining recent weeks  why miq couldve ended lot earlier  calls inquiry new zealands ports sanctions imposed russia latest new zealand herald headlines  video   nz heraldthe ministry healt   4963 chars\n",
            "02. further court action expected lisa lewis stoush neighbour   new zealand herald it understood hamilton cosmopolitan club appealing case  why miq couldve ended lot earlier  calls inquiry new zealands ports sanctions imposed russia latest new zealand herald headlines  video   nz heraldthe landlord ad   2420 chars\n",
            "03. police incident unfolding near shannon   new zealand herald police officers scene near state highway 57  one person taken hospital serious injuries following incident horowhenua town shannon \r\n",
            " a man transported palmerston north hospital serious injuries fo   472 chars\n",
            "04. worker suffered severe headaches awarded  17 000 losing job   new zealand herald worker disclosed debilitating migraines employer awarded  17 000 losing job  a worker suffered severe migraine headaches awarded  17 000 losing job  stock photo   123rf \r\n",
            "a worker suffered persistent debilitating migraines awa   5580 chars\n",
            "05. russia issues new ultimatum surrender mariupol   sydney morning herald we lay weapons  pledges ukrainian major whose forces holding azovstal iron steel works  ukraine said russian forces new offensive captured town kreminna  administrative centre 18 000 people luhansk  one two donbas provinces  ferocious night   6048 chars\n",
            "06. the power future hand   newstalk zb every i get try gadget feels like future \n",
            "you think would happen lot  after  i take random every i get try gadget feels like future \r\n",
            "you think would happen lot  after  i take random look desk right i see   6170 chars\n",
            "07. phoenix suns  devin booker exits game 2 loss new orleans pelicans hamstring injury   espn phoenix star devin booker forced tuesday night game 2 hamstring injury  new orleans took advantage exit grab series evening win  phoenix    in potential series shifting moment  phoenix suns star devin booker went hamstring injury new orleans pelicans pounced huge finish take 125 114 game 2 win   1901 chars\n",
            "08. delhi schools won shut  masks to be a must  sources as covid cases rise   ndtv delhi residents may soon fined wearing masks public authorities planning back penalty amid rise covid cases around national capital  sources said today  delhi residents may soon fined wearing masks public authorities planning back penalty amid rise covid cases around national capital  sources sa   1411 chars\n",
            "09. netflix aims curtail password sharing   bring ads   new zealand herald an unexpectedly sharp drop subscribers netflix considering changes service  netflix customer base fell 200 000 subscribers january march quarter  photo   apan unexpectedly sharp drop subscribers netflix considering changes service lo   4451 chars\n",
            "10. amd announces 6nm ryzen pro 6000 processors business laptops   moneycontrol the new cpus make way premium business laptops q2 2022 american semiconductor maker amd announced line ryzen pro 6000 processors premium business laptop  the line built amd zen 3  architecture  6nm node \r\n",
            "the new lin   1425 chars\n"
          ]
        }
      ]
    },
    {
      "cell_type": "markdown",
      "source": [
        "Similarly, for the second topic:"
      ],
      "metadata": {
        "id": "K751u_-PS9Uc"
      }
    },
    {
      "cell_type": "code",
      "source": [
        "topic_snippets = get_top_snippets( snippets, W, 1, 10 )\n",
        "for i, snippet in enumerate(topic_snippets):\n",
        "    print(\"%02d. %s\" % ( (i+1), snippet ) )"
      ],
      "metadata": {
        "id": "dOYj7zrUKZ3K",
        "colab": {
          "base_uri": "https://localhost:8080/"
        },
        "outputId": "01994992-041e-4dc3-970f-678df52854ce"
      },
      "execution_count": null,
      "outputs": [
        {
          "output_type": "stream",
          "name": "stdout",
          "text": [
            "01. netflix lost customers first time decade  considers cheaper tier ads   gsmarena com news   gsmarena com the company expected add 2 5 million subscribers actually lost 200 000 q1  netflix posted quarterly report yesterday  numbers january march looked uninspiring  the streaming company expected add 2 5 million subscribers  instead  lost 200 000 th   1577 chars\n",
            "02. netflix turns adverts subscriber slump sends shares crashing   live updates   the telegraph netflix roll cheaper  advertising supported version streaming platform left reeling first subscriber loss decade  good morning \r\n",
            "netflix tearing old rules disastrous set quarterly results cast doubts future prospects \r\n",
            "the streaming giant said lost 200 000 subscribers   2084 chars\n",
            "03. elon musk   woke mind virus is making netflix unwatchable    the daily beast the worlds richest man weighed predictably troll like fashion  the big news tuesday concerned netflix  whose disappointing first quarter earnings report revealed streaming giant lost 200 000 subscribersthe first time reported subscriber lo   2067 chars\n",
            "04. netflix aims curtail password sharing   bring ads   new zealand herald an unexpectedly sharp drop subscribers netflix considering changes service  netflix customer base fell 200 000 subscribers january march quarter  photo   apan unexpectedly sharp drop subscribers netflix considering changes service lo   4451 chars\n",
            "05. sanofi breaks ground new s 638 million vaccine facility tuas   cna singapore  by enhancing singapore capacity manufacturing vaccines  region prepared future pandemics economic fallout said deputy prime minister heng swee keat wednesday  apr 20  \r\n",
            "\r\n",
            "speaking groundbreaking ceremo facility expected to create 200 jobs in singapore\r\n",
            "french pharmaceutical giant sanofi announced last year would invest 400 million  s 637 8 million  new vaccine production site si   4728 chars\n",
            "06. kgf chapter 2 box office  hindi   yash jumps 8 places up in star ranking  joins ram charan   jr ntr   koimoi with kgf chapter 2  hindi  entry 200 crore club box office  yash tally gone total 200 points  yash witnesses a huge increment in star ranking with kgf chapter 2s 200 crore club entry   photo credit instagram   facebook  \r\n",
            "kgf chapter 2  hindi  set box office fire exceeding    1653 chars\n",
            "07. worker suffered severe headaches awarded  17 000 losing job   new zealand herald worker disclosed debilitating migraines employer awarded  17 000 losing job  a worker suffered severe migraine headaches awarded  17 000 losing job  stock photo   123rf \r\n",
            "a worker suffered persistent debilitating migraines awa   5580 chars\n",
            "08. indonesian audio content platform noice gets  22m series a   techcrunch noice  indonesia audio content startup  raised  22 million series a funding led northstar  participation returning investors alpha jwc go ventures kinesys  noice different audio streaming startups focus noice  indonesia audio content startup  raised  22 million series a funding led northstar  participation returning investors alpha jwc go ventures kinesys \r\n",
            "noice differ   975 chars\n",
            "09. the power future hand   newstalk zb every i get try gadget feels like future \n",
            "you think would happen lot  after  i take random every i get try gadget feels like future \r\n",
            "you think would happen lot  after  i take random look desk right i see   6170 chars\n",
            "10. san beda trounces perpetual stay undefeated six games   ncaa philippines   gma network san beda university needed one big push second quarter send university perpetual help system dalta crashing  78 71  ncaa season 97 wednesday  box score\r\n",
            " san beda university needed one big push second quarter send university perpetual help system dalta crashing  78 71  ncaa season 97 action wednesday \r\n",
            " james kwekut   1978 chars\n"
          ]
        }
      ]
    },
    {
      "cell_type": "markdown",
      "source": [
        "# **Deployment**"
      ],
      "metadata": {
        "id": "N7LBAou-uHoO"
      }
    },
    {
      "cell_type": "markdown",
      "source": [
        "### **Exporting the Results**\n",
        "\n",
        "The following model could be integrated into the website of a news outlet/newspaper. Specifically, the topics surfaced for each day could be integrated with a Knowledge-based Recommender System in order to reveal different stories on the homepage of different users, based on a user's previous search history."
      ],
      "metadata": {
        "id": "NK5tg_fBKdKC"
      }
    },
    {
      "cell_type": "code",
      "source": [
        "joblib.dump((W,H,terms,snippets), \"articles-model-nmf-k%02d.pkl\" % k) \n"
      ],
      "metadata": {
        "colab": {
          "base_uri": "https://localhost:8080/"
        },
        "id": "soNbWA87KZ7o",
        "outputId": "de776d89-2576-4098-de2b-058ba431f16d"
      },
      "execution_count": null,
      "outputs": [
        {
          "output_type": "execute_result",
          "data": {
            "text/plain": [
              "['articles-model-nmf-k10.pkl']"
            ]
          },
          "metadata": {},
          "execution_count": 44
        }
      ]
    },
    {
      "cell_type": "code",
      "source": [
        ""
      ],
      "metadata": {
        "id": "nNGeO-Pc9XyQ"
      },
      "execution_count": null,
      "outputs": []
    }
  ]
}
